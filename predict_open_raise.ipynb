{
 "cells": [
  {
   "cell_type": "code",
   "execution_count": 10,
   "metadata": {},
   "outputs": [],
   "source": [
    "import pandas as pd\n",
    "import numpy as np\n",
    "import matplotlib.pyplot as plt\n",
    "from sklearn.model_selection import train_test_split\n",
    "from sklearn.ensemble import RandomForestClassifier\n",
    "from sklearn.metrics import accuracy_score, confusion_matrix\n",
    "from sklearn.metrics import classification_report\n",
    "from hand_analysis import process_poker_hand, save_to_csv\n",
    "from poker_app.pypokergui.engine.card import processed_hand, percentage_table"
   ]
  },
  {
   "cell_type": "code",
   "execution_count": 11,
   "metadata": {},
   "outputs": [],
   "source": [
    "# Mapowanie pozycji i akcji\n",
    "position_map = {'EP': 0, 'MP': 1, 'CO': 2, 'BTN': 3, 'SB': 4, 'BB': 5}\n",
    "action_map = {'F': 0, 'R': 1}\n",
    "FILES_PATH = 'hh/*.txt'\n",
    "hands = process_poker_hand(FILES_PATH)\n",
    "save_to_csv(hands)"
   ]
  },
  {
   "cell_type": "code",
   "execution_count": 12,
   "metadata": {},
   "outputs": [],
   "source": [
    "df = pd.read_csv('poker_hand.csv')\n",
    "df = df[~df['preflop_action'].isin(['X', 'C', 'B'])]  # Usuwamy niechciane akcje\n",
    "df['position_processed'] = df['position'].map(position_map)  # Mapowanie pozycji\n",
    "df = df.dropna(subset=['position_processed'])  # Usuwanie wierszy z brakującymi pozycjami\n",
    "df['hole_cards'] = df['hole_cards'].apply(lambda x: eval(x) if isinstance(x, str) else x)  # Przetwarzanie kart\n",
    "df['preflop_action_processed'] = df['preflop_action'].map(action_map)\n",
    "df['preflop_action_processed'] = df['preflop_action_processed'].fillna(0) \n",
    "\n"
   ]
  },
  {
   "cell_type": "code",
   "execution_count": 16,
   "metadata": {},
   "outputs": [],
   "source": [
    "sample_hand = [('As', '2d'), 'BTN']\n",
    "hand_strength = processed_hand(sample_hand[0], percentage_table)\n",
    "df_filtered = df[\n",
    "    df['hole_cards'].apply(lambda x: processed_hand(x, percentage_table) <= hand_strength)\n",
    "    ]\n",
    "df_filtered.to_csv('filtered_poker_data.csv', index=False)\n",
    "X_filtered = pd.DataFrame({\n",
    "    'hand_strength': df_filtered['hole_cards'].apply(lambda hand: processed_hand(hand, percentage_table)),\n",
    "    'position': df_filtered['position_processed']\n",
    "})\n",
    "y_filtered = df_filtered['preflop_action_processed']\n",
    "X_train, X_test, y_train, y_test = train_test_split(X_filtered, y_filtered, test_size=0.2, random_state=42)\n",
    "model = RandomForestClassifier(n_estimators=100, random_state=42, class_weight= 'balanced')\n",
    "model.fit(X_train, y_train)\n",
    "y_pred = model.predict(X_test)\n",
    "sample_hand_processed = pd.DataFrame(\n",
    "    [[hand_strength, position_map[sample_hand[1]]]],\n",
    "    columns=['hand_strength', 'position'] \n",
    ")\n",
    "probabilities = np.round(model.predict_proba(sample_hand_processed), 2)\n",
    "decision = model.predict(sample_hand_processed)\n"
   ]
  },
  {
   "cell_type": "code",
   "execution_count": 17,
   "metadata": {},
   "outputs": [],
   "source": [
    "accuracy = accuracy_score(y_test, y_pred)\n",
    "cm = confusion_matrix(y_test, y_pred)\n",
    "TP = cm[1, 1]\n",
    "TN = cm[0, 0]\n",
    "FP = cm[0, 1]\n",
    "FN = cm[1, 0]\n",
    "sensitivity = TP / (TP + FN)\n",
    "specificity = TN / (TN + FP)\n"
   ]
  }
 ],
 "metadata": {
  "kernelspec": {
   "display_name": "djangoenv",
   "language": "python",
   "name": "python3"
  },
  "language_info": {
   "codemirror_mode": {
    "name": "ipython",
    "version": 3
   },
   "file_extension": ".py",
   "mimetype": "text/x-python",
   "name": "python",
   "nbconvert_exporter": "python",
   "pygments_lexer": "ipython3",
   "version": "3.12.5"
  }
 },
 "nbformat": 4,
 "nbformat_minor": 2
}
