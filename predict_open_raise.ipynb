{
 "cells": [
  {
   "cell_type": "code",
   "execution_count": 1,
   "metadata": {},
   "outputs": [
    {
     "name": "stdout",
     "output_type": "stream",
     "text": [
      "preflop_action_processed\n",
      "0    0.586213\n",
      "1    0.413787\n",
      "Name: proportion, dtype: float64\n",
      "Probabilities: [[0.36 0.64]]\n",
      "Decision: raise\n",
      "Accuracy: 0.73\n",
      "Rozmiar y_train: (4816,)\n",
      "Rozmiar X_test: (1204, 2)\n",
      "Rozmiar y_test: (1204,)\n",
      "Sensitivity: 0.8329938900203666\n",
      "Specificity: 0.6591865357643759\n"
     ]
    }
   ],
   "source": [
    "import pandas as pd\n",
    "import numpy as np\n",
    "import matplotlib.pyplot as plt\n",
    "import seaborn as sns\n",
    "from sklearn.model_selection import train_test_split, cross_val_score\n",
    "from sklearn.ensemble import RandomForestClassifier\n",
    "from sklearn.metrics import accuracy_score, confusion_matrix\n",
    "from hand_analysis import process_poker_hand, save_to_csv\n",
    "from poker_app.pypokergui.engine.card import processed_hand, percentiles_table"
   ]
  },
  {
   "cell_type": "code",
   "execution_count": 2,
   "metadata": {},
   "outputs": [],
   "source": [
    "# Mapowanie pozycji i akcji\n",
    "position_map = {'EP': 0, 'MP': 1, 'CO': 2, 'BTN': 3, 'SB': 4, 'BB': 5}\n",
    "action_map = {'F': 0, 'R': 1}\n",
    "FILES_PATH = 'hh/*.txt'\n",
    "hands = process_poker_hand(FILES_PATH)\n",
    "save_to_csv(hands)"
   ]
  },
  {
   "cell_type": "code",
   "execution_count": 3,
   "metadata": {},
   "outputs": [],
   "source": [
    "df = pd.read_csv('poker_hand.csv')\n",
    "df = df[~df['preflop_action'].isin(['X', 'C', 'B'])]  # Usuwamy niechciane akcje\n",
    "df['position_processed'] = df['position'].map(position_map)  # Mapowanie pozycji\n",
    "df = df.dropna(subset=['position_processed'])  # Usuwanie wierszy z brakującymi pozycjami\n",
    "df['hole_cards'] = df['hole_cards'].apply(lambda x: eval(x) if isinstance(x, str) else x)  # Przetwarzanie kart\n",
    "df['preflop_action_processed'] = df['preflop_action'].map(action_map)\n",
    "df['preflop_action_processed'] = df['preflop_action_processed'].fillna(0) \n",
    "\n"
   ]
  },
  {
   "cell_type": "code",
   "execution_count": 7,
   "metadata": {},
   "outputs": [],
   "source": [
    "sample_hand = [('Ts', '9s'), 'BTN']\n",
    "hand_strength = processed_hand(sample_hand[0], percentiles_table)\n",
    "# df_filtered = df[\n",
    "#     df['hole_cards'].apply(lambda x: processed_hand(x, percentage_table) <= hand_strength)\n",
    "#     ]\n",
    "X_filtered = pd.DataFrame({\n",
    "    'hand_strength': df['hole_cards'].apply(lambda hand: processed_hand(hand, percentiles_table)),\n",
    "    'position': df['position_processed']\n",
    "})\n",
    "\n",
    "y_filtered = df['preflop_action_processed']\n",
    "X_train, X_test, y_train, y_test = train_test_split(X_filtered, y_filtered, test_size=0.2, random_state=42)\n",
    "model = RandomForestClassifier(n_estimators=100, random_state=42, class_weight= 'balanced')\n",
    "model.fit(X_train, y_train)\n",
    "y_pred = model.predict(X_test)\n",
    "sample_hand_processed = pd.DataFrame(\n",
    "    [\n",
    "        [1, 3], [2, 3], [3, 3], [4, 3], [5, 3], [6, 3], [7, 3], [8, 3], [9, 3], [10, 3],\n",
    "        [11, 3], [12, 3], [13, 3], [14, 3], [15, 3], [16, 3], [17, 3], [18, 3], [19, 3], [20, 3],\n",
    "        [21, 3], [22, 3], [23, 3], [24, 3], [25, 3], [26, 3], [27, 3], [28, 3], [29, 3], [30, 3],\n",
    "        [31, 3], [32, 3], [33, 3], [34, 3], [35, 3], [36, 3], [37, 3], [38, 3], [39, 3], [40, 3],\n",
    "        [41, 3], [42, 3], [43, 3], [44, 3], [45, 3], [46, 3], [47, 3], [48, 3], [49, 3], [50, 3],\n",
    "        [51, 3], [52, 3], [53, 3], [54, 3], [55, 3], [56, 3], [57, 3], [58, 3], [59, 3], [60, 3],\n",
    "        [61, 3], [62, 3], [63, 3], [64, 3], [65, 3], [66, 3], [67, 3], [68, 3], [69, 3], [70, 3],\n",
    "        [71, 3], [72, 3], [73, 3], [74, 3], [75, 3], [76, 3], [77, 3], [78, 3], [79, 3], [80, 3],\n",
    "        [81, 3], [82, 3], [83, 3], [84, 3], [85, 3], [86, 3], [87, 3], [88, 3], [89, 3], [90, 3],\n",
    "        [91, 3], [92, 3], [93, 3], [94, 3], [95, 3], [96, 3], [97, 3], [98, 3], [99, 3], [100, 3],\n",
    "        ],\n",
    "    columns=['hand_strength', 'position'] \n",
    ")\n",
    "probabilities = np.round(model.predict_proba(sample_hand_processed), 2)\n",
    "decision = model.predict(sample_hand_processed)\n",
    "# scores = cross_val_score(model, X_filtered, y_filtered, cv=5, scoring='accuracy')"
   ]
  },
  {
   "cell_type": "code",
   "execution_count": 5,
   "metadata": {},
   "outputs": [],
   "source": [
    "accuracy = accuracy_score(y_test, y_pred)\n",
    "cm = confusion_matrix(y_test, y_pred)\n",
    "TP = cm[1, 1]\n",
    "TN = cm[0, 0]\n",
    "FP = cm[0, 1]\n",
    "FN = cm[1, 0]\n",
    "sensitivity = TP / (TP + FN)\n",
    "specificity = TN / (TN + FP)\n"
   ]
  }
 ],
 "metadata": {
  "kernelspec": {
   "display_name": "djangoenv",
   "language": "python",
   "name": "python3"
  },
  "language_info": {
   "codemirror_mode": {
    "name": "ipython",
    "version": 3
   },
   "file_extension": ".py",
   "mimetype": "text/x-python",
   "name": "python",
   "nbconvert_exporter": "python",
   "pygments_lexer": "ipython3",
   "version": "3.12.5"
  }
 },
 "nbformat": 4,
 "nbformat_minor": 2
}
