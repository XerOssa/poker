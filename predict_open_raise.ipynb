{
 "cells": [
  {
   "cell_type": "code",
   "execution_count": 47,
   "metadata": {},
   "outputs": [
    {
     "ename": "ImportError",
     "evalue": "cannot import name 'percentiles_table' from 'poker_app.pypokergui.engine.card' (d:\\_ROBOTA\\python\\poker\\poker_app\\pypokergui\\engine\\card.py)",
     "output_type": "error",
     "traceback": [
      "\u001b[1;31m---------------------------------------------------------------------------\u001b[0m",
      "\u001b[1;31mImportError\u001b[0m                               Traceback (most recent call last)",
      "Cell \u001b[1;32mIn[47], line 8\u001b[0m\n\u001b[0;32m      6\u001b[0m \u001b[38;5;28;01mfrom\u001b[39;00m \u001b[38;5;21;01msklearn\u001b[39;00m\u001b[38;5;21;01m.\u001b[39;00m\u001b[38;5;21;01mmetrics\u001b[39;00m \u001b[38;5;28;01mimport\u001b[39;00m accuracy_score, confusion_matrix\n\u001b[0;32m      7\u001b[0m \u001b[38;5;28;01mfrom\u001b[39;00m \u001b[38;5;21;01mhand_analysis\u001b[39;00m \u001b[38;5;28;01mimport\u001b[39;00m process_poker_hand, save_to_csv\n\u001b[1;32m----> 8\u001b[0m \u001b[38;5;28;01mfrom\u001b[39;00m \u001b[38;5;21;01mpoker_app\u001b[39;00m\u001b[38;5;21;01m.\u001b[39;00m\u001b[38;5;21;01mpypokergui\u001b[39;00m\u001b[38;5;21;01m.\u001b[39;00m\u001b[38;5;21;01mengine\u001b[39;00m\u001b[38;5;21;01m.\u001b[39;00m\u001b[38;5;21;01mcard\u001b[39;00m \u001b[38;5;28;01mimport\u001b[39;00m processed_hand, percentiles_table\n",
      "\u001b[1;31mImportError\u001b[0m: cannot import name 'percentiles_table' from 'poker_app.pypokergui.engine.card' (d:\\_ROBOTA\\python\\poker\\poker_app\\pypokergui\\engine\\card.py)"
     ]
    }
   ],
   "source": [
    "import pandas as pd\n",
    "import numpy as np\n",
    "import matplotlib.pyplot as plt\n",
    "from sklearn.model_selection import train_test_split, cross_val_score\n",
    "from sklearn.ensemble import RandomForestClassifier\n",
    "from sklearn.metrics import accuracy_score, confusion_matrix\n",
    "from hand_analysis import process_poker_hand, save_to_csv\n",
    "from poker_app.pypokergui.engine.card import processed_hand, percentiles_table"
   ]
  },
  {
   "cell_type": "code",
   "execution_count": 43,
   "metadata": {},
   "outputs": [],
   "source": [
    "# Mapowanie pozycji i akcji\n",
    "position_map = {'EP': 0, 'MP': 2, 'CO': 2, 'BTN': 3, 'SB': 4, 'BB': 5}\n",
    "action_map = {'F': 0, 'R': 2}\n",
    "FILES_PATH = 'hh/*.txt'\n",
    "hands = process_poker_hand(FILES_PATH)\n",
    "save_to_csv(hands)"
   ]
  },
  {
   "cell_type": "code",
   "execution_count": 44,
   "metadata": {},
   "outputs": [],
   "source": [
    "df = pd.read_csv('poker_hand.csv')\n",
    "df = df[~df['preflop_action'].isin(['X', 'C', 'B'])]  # Usuwamy niechciane akcje\n",
    "df['position_processed'] = df['position'].map(position_map)  # Mapowanie pozycji\n",
    "df = df.dropna(subset=['position_processed'])  # Usuwanie wierszy z brakującymi pozycjami\n",
    "df['hole_cards'] = df['hole_cards'].apply(lambda x: eval(x) if isinstance(x, str) else x)  # Przetwarzanie kart\n",
    "df['preflop_action_processed'] = df['preflop_action'].map(action_map)\n",
    "df['preflop_action_processed'] = df['preflop_action_processed'].fillna(0) \n",
    "\n"
   ]
  },
  {
   "cell_type": "code",
   "execution_count": 46,
   "metadata": {},
   "outputs": [
    {
     "ename": "NameError",
     "evalue": "name 'percentiles_table' is not defined",
     "output_type": "error",
     "traceback": [
      "\u001b[1;31m---------------------------------------------------------------------------\u001b[0m",
      "\u001b[1;31mNameError\u001b[0m                                 Traceback (most recent call last)",
      "Cell \u001b[1;32mIn[46], line 2\u001b[0m\n\u001b[0;32m      1\u001b[0m sample_hand \u001b[38;5;241m=\u001b[39m [(\u001b[38;5;124m'\u001b[39m\u001b[38;5;124mTs\u001b[39m\u001b[38;5;124m'\u001b[39m, \u001b[38;5;124m'\u001b[39m\u001b[38;5;124m9s\u001b[39m\u001b[38;5;124m'\u001b[39m), \u001b[38;5;124m'\u001b[39m\u001b[38;5;124mBTN\u001b[39m\u001b[38;5;124m'\u001b[39m]\n\u001b[1;32m----> 2\u001b[0m hand_strength \u001b[38;5;241m=\u001b[39m processed_hand(sample_hand[\u001b[38;5;241m0\u001b[39m], \u001b[43mpercentiles_table\u001b[49m)\n\u001b[0;32m      3\u001b[0m \u001b[38;5;66;03m# df_filtered = df[\u001b[39;00m\n\u001b[0;32m      4\u001b[0m \u001b[38;5;66;03m#     df['hole_cards'].apply(lambda x: processed_hand(x, percentage_table) <= hand_strength)\u001b[39;00m\n\u001b[0;32m      5\u001b[0m \u001b[38;5;66;03m#     ]\u001b[39;00m\n\u001b[0;32m      6\u001b[0m X_filtered \u001b[38;5;241m=\u001b[39m pd\u001b[38;5;241m.\u001b[39mDataFrame({\n\u001b[0;32m      7\u001b[0m     \u001b[38;5;124m'\u001b[39m\u001b[38;5;124mhand_strength\u001b[39m\u001b[38;5;124m'\u001b[39m: df[\u001b[38;5;124m'\u001b[39m\u001b[38;5;124mhole_cards\u001b[39m\u001b[38;5;124m'\u001b[39m]\u001b[38;5;241m.\u001b[39mapply(\u001b[38;5;28;01mlambda\u001b[39;00m hand: processed_hand(hand, percentiles_table)),\n\u001b[0;32m      8\u001b[0m     \u001b[38;5;124m'\u001b[39m\u001b[38;5;124mposition\u001b[39m\u001b[38;5;124m'\u001b[39m: df[\u001b[38;5;124m'\u001b[39m\u001b[38;5;124mposition_processed\u001b[39m\u001b[38;5;124m'\u001b[39m]\n\u001b[0;32m      9\u001b[0m })\n",
      "\u001b[1;31mNameError\u001b[0m: name 'percentiles_table' is not defined"
     ]
    }
   ],
   "source": [
    "sample_hand = [('Ts', '9s'), 'BTN']\n",
    "hand_strength = processed_hand(sample_hand[0], percentiles_table)\n",
    "# df_filtered = df[\n",
    "#     df['hole_cards'].apply(lambda x: processed_hand(x, percentage_table) <= hand_strength)\n",
    "#     ]\n",
    "X_filtered = pd.DataFrame({\n",
    "    'hand_strength': df['hole_cards'].apply(lambda hand: processed_hand(hand, percentiles_table)),\n",
    "    'position': df['position_processed']\n",
    "})\n",
    "\n",
    "y_filtered = df['preflop_action_processed']\n",
    "X_train, X_test, y_train, y_test = train_test_split(X_filtered, y_filtered, test_size=0.2, random_state=42)\n",
    "model = RandomForestClassifier(n_estimators=100, random_state=42, class_weight= 'balanced')\n",
    "model.fit(X_train, y_train)\n",
    "y_pred = model.predict(X_test)\n",
    "sample_hand_processed = pd.DataFrame(\n",
    "    [\n",
    "        [0.05, 3], [0.01, 3], [0.02, 3], [0.03, 3], [0.04, 3], [0.05, 3], [0.06, 3], [0.07, 3], [0.08, 3], [0.09, 3],\n",
    "        [0.10, 3], [0.11, 3], [0.12, 3], [0.13, 3], [0.14, 3], [0.15, 3], [0.16, 3], [0.17, 3], [0.18, 3], [0.19, 3],\n",
    "        [0.20, 3], [0.21, 3], [0.22, 3], [0.23, 3], [0.24, 3], [0.25, 3], [0.26, 3], [0.27, 3], [0.28, 3], [0.29, 3],\n",
    "        [0.30, 3], [0.31, 3], [0.32, 3], [0.33, 3], [0.34, 3], [0.35, 3], [0.36, 3], [0.37, 3], [0.38, 3], [0.39, 3],\n",
    "        [0.40, 3], [0.41, 3], [0.42, 3], [0.43, 3], [0.44, 3], [0.45, 3], [0.46, 3], [0.47, 3], [0.48, 3], [0.49, 3],\n",
    "        [0.50, 3], [0.51, 3], [0.52, 3], [0.53, 3], [0.54, 3], [0.55, 3], [0.56, 3], [0.57, 3], [0.58, 3], [0.59, 3],\n",
    "        [0.60, 3], [0.61, 3], [0.62, 3], [0.63, 3], [0.64, 3], [0.65, 3], [0.66, 3], [0.67, 3], [0.68, 3], [0.69, 3],\n",
    "        [0.70, 3], [0.71, 3], [0.72, 3], [0.73, 3], [0.74, 3], [0.75, 3], [0.76, 3], [0.77, 3], [0.78, 3], [0.79, 3],\n",
    "        [0.80, 3], [0.81, 3], [0.82, 3], [0.83, 3], [0.84, 3], [0.85, 3], [0.86, 3], [0.87, 3], [0.88, 3], [0.89, 3],\n",
    "        [0.90, 3], [0.91, 3], [0.92, 3], [0.93, 3], [0.94, 3], [0.95, 3], [0.96, 3], [0.97, 3], [0.98, 3], [0.99, 3],\n",
    "        [1, 3]\n",
    "        ],\n",
    "    columns=['hand_strength', 'position'] \n",
    ")\n",
    "probabilities = np.round(model.predict_proba(sample_hand_processed), 2)\n",
    "decision = model.predict(sample_hand_processed)\n",
    "scores = cross_val_score(model, X_filtered, y_filtered, cv=5, scoring='accuracy')\n",
    "print(f\"Cross-validation accuracy: {scores.mean()}\")"
   ]
  },
  {
   "cell_type": "code",
   "execution_count": 29,
   "metadata": {},
   "outputs": [],
   "source": [
    "accuracy = accuracy_score(y_test, y_pred)\n",
    "cm = confusion_matrix(y_test, y_pred)\n",
    "TP = cm[1, 1]\n",
    "TN = cm[0, 0]\n",
    "FP = cm[0, 1]\n",
    "FN = cm[1, 0]\n",
    "sensitivity = TP / (TP + FN)\n",
    "specificity = TN / (TN + FP)\n"
   ]
  },
  {
   "cell_type": "code",
   "execution_count": 36,
   "metadata": {},
   "outputs": [
    {
     "name": "stdout",
     "output_type": "stream",
     "text": [
      "min_samples_leaf = 1, Accuracy = 0.9146\n",
      "min_samples_leaf = 5, Accuracy = 0.9117\n",
      "min_samples_leaf = 10, Accuracy = 0.9114\n",
      "min_samples_leaf = 20, Accuracy = 0.9130\n"
     ]
    }
   ],
   "source": []
  }
 ],
 "metadata": {
  "kernelspec": {
   "display_name": "djangoenv",
   "language": "python",
   "name": "python3"
  },
  "language_info": {
   "codemirror_mode": {
    "name": "ipython",
    "version": 3
   },
   "file_extension": ".py",
   "mimetype": "text/x-python",
   "name": "python",
   "nbconvert_exporter": "python",
   "pygments_lexer": "ipython3",
   "version": "3.12.5"
  }
 },
 "nbformat": 4,
 "nbformat_minor": 2
}
